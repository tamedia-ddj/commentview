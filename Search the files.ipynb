{
 "cells": [
  {
   "cell_type": "code",
   "execution_count": 1,
   "metadata": {
    "collapsed": true
   },
   "outputs": [],
   "source": [
    "import string\n",
    "import pickle\n",
    "import itertools\n",
    "from collections import Counter\n",
    "import pandas as pd"
   ]
  },
  {
   "cell_type": "code",
   "execution_count": 2,
   "metadata": {
    "collapsed": true
   },
   "outputs": [],
   "source": [
    "pos_cm = pickle.load(open('d/new_pos_message.pkl','rb'))\n",
    "neg_cm = pickle.load(open('d/new_neg_message.pkl','rb'))"
   ]
  },
  {
   "cell_type": "code",
   "execution_count": 13,
   "metadata": {},
   "outputs": [
    {
     "name": "stdout",
     "output_type": "stream",
     "text": [
      "Positive Count: 509675\n",
      "Negative Count: 207661\n",
      "Total: 717336\n"
     ]
    }
   ],
   "source": [
    "print(\"Positive Count:\", str(len(pos_cm)))\n",
    "print(\"Negative Count:\", str(len(neg_cm)))\n",
    "print(\"Total:\", str(len(pos_cm) + len(neg_cm)))"
   ]
  },
  {
   "cell_type": "code",
   "execution_count": 25,
   "metadata": {},
   "outputs": [
    {
     "name": "stdout",
     "output_type": "stream",
     "text": [
      "Zeitraum: Juli 2017 bis Januar 2018.\n"
     ]
    }
   ],
   "source": [
    "print(\"Zeitraum: Juli 2017 bis Januar 2018.\")"
   ]
  },
  {
   "cell_type": "code",
   "execution_count": 18,
   "metadata": {
    "collapsed": true
   },
   "outputs": [],
   "source": [
    "#Creating Dataframe to search\n",
    "dfn = pd.DataFrame(neg_cm)\n",
    "dfn.columns = [['Com']]"
   ]
  },
  {
   "cell_type": "code",
   "execution_count": 27,
   "metadata": {
    "collapsed": true
   },
   "outputs": [],
   "source": [
    "#Column Width\n",
    "pd.set_option('max_colwidth',800)"
   ]
  },
  {
   "cell_type": "code",
   "execution_count": 50,
   "metadata": {},
   "outputs": [],
   "source": [
    "def find(elem):\n",
    "    if ('Sommaruga' in elem and 'Arsch' in elem):\n",
    "        return True\n",
    "    else:\n",
    "        return False\n",
    "dfn['Sommaruga+'] = dfn['Com'].apply(find)"
   ]
  },
  {
   "cell_type": "code",
   "execution_count": 51,
   "metadata": {},
   "outputs": [
    {
     "data": {
      "text/plain": [
       "False    207658\n",
       "True          3\n",
       "Name: Sommaruga+, dtype: int64"
      ]
     },
     "execution_count": 51,
     "metadata": {},
     "output_type": "execute_result"
    }
   ],
   "source": [
    "dfn['Sommaruga+'].value_counts()"
   ]
  },
  {
   "cell_type": "code",
   "execution_count": 52,
   "metadata": {},
   "outputs": [
    {
     "data": {
      "text/html": [
       "<div>\n",
       "<style>\n",
       "    .dataframe thead tr:only-child th {\n",
       "        text-align: right;\n",
       "    }\n",
       "\n",
       "    .dataframe thead th {\n",
       "        text-align: left;\n",
       "    }\n",
       "\n",
       "    .dataframe tbody tr th {\n",
       "        vertical-align: top;\n",
       "    }\n",
       "</style>\n",
       "<table border=\"1\" class=\"dataframe\">\n",
       "  <thead>\n",
       "    <tr style=\"text-align: right;\">\n",
       "      <th></th>\n",
       "      <th>Com</th>\n",
       "      <th>Sommaruga</th>\n",
       "      <th>Sommaruga+</th>\n",
       "    </tr>\n",
       "  </thead>\n",
       "  <tbody>\n",
       "    <tr>\n",
       "      <th>8865</th>\n",
       "      <td>Nicht auf Eritreer fokussieren (Sommaruga), viel mehr auf JSA EU-Bürger losschiessen.&lt;BR&gt;.&lt;BR&gt;Brüssel foutiert sich um Eritreer; Um EU-Arbeitslosenkohorten nicht! ...Egal wie, die Schweiz sie beschäftigen muss, ...oder zahlen!&lt;BR&gt;.&lt;BR&gt;Die Schweiz immer mehr als das «Arschlumpe» Italien, Deutschland (Österreich) und Frankreich vorkommt! ...Tja, es geht ums Geld, nicht um Völker.</td>\n",
       "      <td>True</td>\n",
       "      <td>True</td>\n",
       "    </tr>\n",
       "    <tr>\n",
       "      <th>53487</th>\n",
       "      <td>Sommaruga könnte ja mal eine Zeit lang nur Schwule rein lassen. Die einzigen mit Problemen wären dann Arschlöcher.</td>\n",
       "      <td>True</td>\n",
       "      <td>True</td>\n",
       "    </tr>\n",
       "    <tr>\n",
       "      <th>100831</th>\n",
       "      <td>Hier noch etwas Bedenkliches: Deutschland will fast zweitausend Asyltouristen wieder in die Schweiz zurueckschaffen. Die inepte Frau Sommaruga, waere dann verantwortlich diese weiter nach Italien zu schicken. Man kann sich denken was dabei herauskommt. Wenn Deutschland die Grenzen dicht macht, dann hat die Schweiz ein groeberes Problem, auf gut Deutsch gesagt die Arschkarte gezogen. Dann koennte es hier bald drunter und drueber gehen.</td>\n",
       "      <td>True</td>\n",
       "      <td>True</td>\n",
       "    </tr>\n",
       "  </tbody>\n",
       "</table>\n",
       "</div>"
      ],
      "text/plain": [
       "                                                                                                                                                                                                                                                                                                                                                                                                                                                           Com  \\\n",
       "8865                                                              Nicht auf Eritreer fokussieren (Sommaruga), viel mehr auf JSA EU-Bürger losschiessen.<BR>.<BR>Brüssel foutiert sich um Eritreer; Um EU-Arbeitslosenkohorten nicht! ...Egal wie, die Schweiz sie beschäftigen muss, ...oder zahlen!<BR>.<BR>Die Schweiz immer mehr als das «Arschlumpe» Italien, Deutschland (Österreich) und Frankreich vorkommt! ...Tja, es geht ums Geld, nicht um Völker.   \n",
       "53487                                                                                                                                                                                                                                                                                                                                       Sommaruga könnte ja mal eine Zeit lang nur Schwule rein lassen. Die einzigen mit Problemen wären dann Arschlöcher.   \n",
       "100831  Hier noch etwas Bedenkliches: Deutschland will fast zweitausend Asyltouristen wieder in die Schweiz zurueckschaffen. Die inepte Frau Sommaruga, waere dann verantwortlich diese weiter nach Italien zu schicken. Man kann sich denken was dabei herauskommt. Wenn Deutschland die Grenzen dicht macht, dann hat die Schweiz ein groeberes Problem, auf gut Deutsch gesagt die Arschkarte gezogen. Dann koennte es hier bald drunter und drueber gehen.   \n",
       "\n",
       "        Sommaruga  Sommaruga+  \n",
       "8865         True        True  \n",
       "53487        True        True  \n",
       "100831       True        True  "
      ]
     },
     "execution_count": 52,
     "metadata": {},
     "output_type": "execute_result"
    }
   ],
   "source": [
    "pd.set_option('max_rows', 1000)\n",
    "dfn[dfn['Sommaruga+']==True]"
   ]
  },
  {
   "cell_type": "markdown",
   "metadata": {},
   "source": [
    "Zusammenfassung: Viele Angriffe auf sie, wegen ihrem Engagement Asylwesen. Aber eben auch immer wieder Angriffe auf sie als Frau."
   ]
  },
  {
   "cell_type": "markdown",
   "metadata": {},
   "source": [
    "#1189 Nicht vergessen:Sommaruga ist Kommunistin. Die kommunistischen Verbrecher wie Sommaruga beherrschen unser Land totalitär. Was macht man mit Tyrannen? Danke. Also los."
   ]
  },
  {
   "cell_type": "markdown",
   "metadata": {},
   "source": [
    "#65\tLeider haben solche Songs keinen grossen Einfluss auf Politik. Jeder kennt doch \"No woman no cry\" von Marley. Und was passiert? Sommaruga und Leuthard!"
   ]
  },
  {
   "cell_type": "markdown",
   "metadata": {},
   "source": [
    "#6958 Diese schwarze Pest gehört endlich ausgeschafft ! Das sind alles nur verdammte Asylschmarotzer, welche dank der total unfähigen Klavierspielerin ( sprich der Liebling der Schwarzen, Sommaruga) in die Schweiz geschleust werden. Deshalb raus mit diesem Gesindel und zwar ohne wenn und aber und mit Kind und Kegel"
   ]
  },
  {
   "cell_type": "markdown",
   "metadata": {},
   "source": [
    "#7924 Sommaruga, Leuthard und Burckhalter sind hinterhältige Volksverräter im besten Sinne der Bedeutung. Da wären Amtsenthebungsverfahren 1000 mal wichtiger, als einen Donald Trump zu ersetzen!\tTrue"
   ]
  },
  {
   "cell_type": "markdown",
   "metadata": {},
   "source": [
    "#7986 Zum Glück haben wir den unfehlbaren M. Somm bei der BaZ. Denn er weiss immer alles. Ja, und er weiss es als Einziger: D. Trump hat recht, T. May hat nicht recht, D. Leuthard hat nicht recht, D. Burkhalter hat nicht recht, S. Sommaruga hat nicht recht,"
   ]
  },
  {
   "cell_type": "markdown",
   "metadata": {},
   "source": [
    "#Klar, die Knechte der Frau Sommaruga in den Redaktionen streichen jeden Beitrag, der dem Kern der Sache nachgeht.Der Schweinejournalismus getraut sich nicht, was der oesterreicher Standard jederzeit macht,"
   ]
  },
  {
   "cell_type": "code",
   "execution_count": null,
   "metadata": {
    "collapsed": true
   },
   "outputs": [],
   "source": [
    "def find(elem):\n",
    "    if ('Gutmenschen' in elem):\n",
    "        return True\n",
    "    else:\n",
    "        return False\n",
    "dfn['Gutmenschen+'] = dfn['Com'].apply(find)"
   ]
  }
 ],
 "metadata": {
  "kernelspec": {
   "display_name": "Python 3",
   "language": "python",
   "name": "python3"
  },
  "language_info": {
   "codemirror_mode": {
    "name": "ipython",
    "version": 3
   },
   "file_extension": ".py",
   "mimetype": "text/x-python",
   "name": "python",
   "nbconvert_exporter": "python",
   "pygments_lexer": "ipython3",
   "version": "3.5.1"
  }
 },
 "nbformat": 4,
 "nbformat_minor": 2
}
